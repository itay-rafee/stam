{
 "cells": [
  {
   "cell_type": "markdown",
   "metadata": {},
   "source": [
    "# Kalman Filter\n",
    "## 08/12/2021 Presentation"
   ]
  },
  {
   "cell_type": "code",
   "execution_count": 10,
   "metadata": {},
   "outputs": [
    {
     "name": "stdout",
     "output_type": "stream",
     "text": [
      "\n",
      "----------------------------------\n",
      "Iteration number 1\n",
      "----------------------------------\n",
      "State Vector is:\n",
      " [[436.35411484]\n",
      " [238.85411484]]\n",
      "\n",
      "----------------------------------\n",
      "Iteration number 2\n",
      "----------------------------------\n",
      "State Vector is:\n",
      " [[717.75599781]\n",
      " [263.8779989 ]]\n",
      "\n",
      "----------------------------------\n",
      "Iteration number 3\n",
      "----------------------------------\n",
      "State Vector is:\n",
      " [[1049.14980532]\n",
      " [ 290.54993511]]\n",
      "\n",
      "----------------------------------\n",
      "Iteration number 4\n",
      "----------------------------------\n",
      "State Vector is:\n",
      " [[1436.53424555]\n",
      " [ 319.13356139]]\n",
      "\n",
      "----------------------------------\n",
      "Iteration number 5\n",
      "----------------------------------\n",
      "State Vector is:\n",
      " [[1883.9110172 ]\n",
      " [ 349.28220344]]\n",
      "\n",
      "----------------------------------\n",
      "Iteration number 6\n",
      "----------------------------------\n",
      "State Vector is:\n",
      " [[2397.27905544]\n",
      " [ 381.21317591]]\n"
     ]
    }
   ],
   "source": [
    "import numpy as np\n",
    "from numpy.linalg import inv\n",
    "\n",
    "def kalman(h,f,p,x,z,r,b,u):\n",
    "    Q_matrix = 0\n",
    "    # Calc X\n",
    "    x = f*x+b*u\n",
    "    # Calc P\n",
    "    p = f*p*f.T + Q_matrix\n",
    "    # Update\n",
    "    S = h*p*h.T + r\n",
    "    S = inv(S)\n",
    "    K = p*h.T*S\n",
    "    # print(\"Kalman Gain is:\\n\", K)\n",
    "    x = x + K*(z-h*x)\n",
    "    p = p-K*h*p\n",
    "    # print(\"P is:\\n\", p)\n",
    "    return x,p\n",
    "    \n",
    "if __name__ == \"__main__\":\n",
    "    # X matrix\n",
    "    xM = np.matrix([[200],\n",
    "                    [0]])\n",
    "    # P matrix\n",
    "    pM = np.matrix([[7**2,0],    # position std\n",
    "                    [0,100**2]]) # velocity std\n",
    "    # H matrix\n",
    "    hM = np.matrix([[0, 1.0]])\n",
    "    # R matrix\n",
    "    rM = np.matrix([[7**2]]) # sensor std\n",
    "    # F matrix\n",
    "    deltaT = 1 # sample every 1 second\n",
    "    fM = np.matrix([[1,deltaT],\n",
    "                    [0,1]])\n",
    "    # U matrix\n",
    "    uM = np.matrix([[5]]) # 5 m/s acceleration\n",
    "    # B\n",
    "    bM = np.matrix([[1/2*deltaT**2],     # after multiply with U matrix: a*(1/2)*t^2\n",
    "                    [deltaT]])           # after multiply with U matrix: a*t\n",
    "    \n",
    "    # set the measurements from the sensor for iteration\n",
    "    measurements = [240,284,334,390,450,516]\n",
    "    \n",
    "    for i in range(0,6):\n",
    "        # Update Z matrix\n",
    "        zM = np.matrix([measurements[i]])\n",
    "        # Call kalman method\n",
    "        xM,pM = kalman(hM,fM,pM,xM,zM,rM,bM,uM)\n",
    "        print(\"\\n----------------------------------\")\n",
    "        print(\"Iteration number\", i+1)\n",
    "        print(\"----------------------------------\")\n",
    "        print(\"State Vector is:\\n\", xM)\n",
    "        # print(\"\\nP matrix is:\\n\", pM)\n",
    "    "
   ]
  },
  {
   "cell_type": "code",
   "execution_count": null,
   "metadata": {},
   "outputs": [],
   "source": []
  },
  {
   "cell_type": "code",
   "execution_count": null,
   "metadata": {},
   "outputs": [],
   "source": []
  },
  {
   "cell_type": "code",
   "execution_count": null,
   "metadata": {},
   "outputs": [],
   "source": []
  }
 ],
 "metadata": {
  "anaconda-cloud": {},
  "kernelspec": {
   "display_name": "Python 3 (ipykernel)",
   "language": "python",
   "name": "python3"
  },
  "language_info": {
   "codemirror_mode": {
    "name": "ipython",
    "version": 3
   },
   "file_extension": ".py",
   "mimetype": "text/x-python",
   "name": "python",
   "nbconvert_exporter": "python",
   "pygments_lexer": "ipython3",
   "version": "3.7.9"
  }
 },
 "nbformat": 4,
 "nbformat_minor": 1
}
